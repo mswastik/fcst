{
 "cells": [
  {
   "cell_type": "code",
   "execution_count": 23,
   "id": "691135da",
   "metadata": {},
   "outputs": [],
   "source": [
    "from neuralforecast import NeuralForecast\n",
    "from neuralforecast.models import NHITS\n",
    "from neuralforecast.auto import AutoNHITS\n",
    "from neuralforecast.losses.pytorch import MSE\n",
    "import polars as pl\n",
    "import mlflow\n",
    "#from mlflow.data.pandas_dataset import PandasDataset\n",
    "from sklearn.metrics import mean_absolute_error, mean_absolute_percentage_error\n",
    "from datetime import datetime\n",
    "from dateutil.relativedelta import relativedelta\n",
    "import plotly.express as px\n",
    "from pyecharts.charts import Line, Page\n",
    "import pyecharts.options as opts\n",
    "import plotly.io as pio\n",
    "from sklearn.metrics import silhouette_score\n",
    "\n",
    "pio.templates.default='plotly_white'\n",
    "\n",
    "idf = pl.read_parquet(\"C:\\\\Users\\\\smishra14\\\\setup\\\\repos\\\\fcst\\\\data\\\\Trauma.parquet\")\n",
    "df= idf.filter(pl.col('SALES_DATE')<=datetime.today()-relativedelta(months=1))"
   ]
  },
  {
   "cell_type": "code",
   "execution_count": null,
   "id": "039bf04c",
   "metadata": {},
   "outputs": [],
   "source": [
    "import polars as pl\n",
    "df = pl.read_parquet(\"C:\\\\Users\\\\smishra14\\\\setup\\\\repos\\\\fcst\\\\data\\\\Orthopaedic Instruments.parquet\")\n",
    "df=df.drop('NHITS')\n",
    "df.write_parquet(\"C:\\\\Users\\\\smishra14\\\\setup\\\\repos\\\\fcst\\\\data\\\\Orthopaedic Instruments.parquet\")\n",
    "#df.filter(pl.col('NHITS')>99999)"
   ]
  },
  {
   "cell_type": "code",
   "execution_count": null,
   "id": "8dda3f50",
   "metadata": {},
   "outputs": [],
   "source": [
    "def prepare_data(df):\n",
    "    columns_to_drop = [\n",
    "        'UOM', 'NPI Flag', 'Pack Content', '`L0 ASP Final Rev',\n",
    "        'Act Orders Rev Val', 'L2 DF Final Rev', 'L1 DF Final Rev',\n",
    "        'L0 DF Final Rev', 'L2 Stat Final Rev', '`Fcst DF Final Rev',\n",
    "        '`Fcst Stat Final Rev', '`Fcst Stat Prelim Rev', 'Fcst DF Final Rev Val'\n",
    "    ]\n",
    "    df = df.drop([col for col in columns_to_drop if col in df.columns])\n",
    "    df = df.fill_nan(0)\n",
    "    #df[\"unique_id\"] = df['Country'].astype(str) + \",\" + df['CatalogNumber'].astype(str)\n",
    "    df=df.with_columns(unique_id = pl.col('Country') + \",\" + pl.col('CatalogNumber'))\n",
    "    df = df.with_columns(num=pl.col('`Act Orders Rev').count().over('CatalogNumber'))\n",
    "    return df\n",
    "    \n",
    "dft = prepare_data(df)\n",
    "df_fr = dft.rename({'SALES_DATE': 'ds', '`Act Orders Rev': 'y'})\n",
    "df_fr=df_fr.with_columns(ds = pl.col('ds').cast(pl.Datetime))\n",
    "df_fr=df_fr.with_columns(y = pl.col('y').cast(pl.Float32))\n",
    "df_fr = df_fr[['unique_id', 'ds', 'y']]\n",
    "df_fr=df_fr.sort('ds')\n",
    "#df_fr= df_fr.with_columns(ymean=pl.col('y').rolling_mean(3).over('unique_id'))\n",
    "#dfr= df_fr.with_columns(ydiff=pl.col('y').diff().over('unique_id'))\n",
    "dfr=df_fr.with_columns(ynorm=((pl.col('y')-pl.col('y').mean()) / pl.col('y').std()).over('unique_id'))\n",
    "#dfr=dfr.with_columns(ynorm=((pl.col('ydiff')-pl.col('ydiff').mean()) / pl.col('ydiff').std()).over('unique_id'))\n",
    "dfr=dfr.fill_nan(0)\n",
    "dfr=dfr.pivot(index='unique_id',on='ds',values='ynorm',aggregate_function='sum')"
   ]
  },
  {
   "cell_type": "code",
   "execution_count": 25,
   "id": "ad1d988a",
   "metadata": {},
   "outputs": [
    {
     "data": {
      "text/plain": [
       "1.0"
      ]
     },
     "execution_count": 25,
     "metadata": {},
     "output_type": "execute_result"
    }
   ],
   "source": [
    "#dfp=df_fr.filter(pl.col('num')>34)\n",
    "from sklearn.cluster import KMeans\n",
    "km=KMeans(max_iter=800,n_clusters=6).fit(dfr[:,1:])\n",
    "dfp=dfr.with_columns(kmeans=km.labels_)\n",
    "dfp=dfp['unique_id','kmeans']\n",
    "dfi = idf.with_columns(unique_id = pl.col('Country') + \",\" + pl.col('CatalogNumber'))\n",
    "dfi = dfi.drop('kmeans',strict=False)\n",
    "dfi=dfi.join(dfp,on='unique_id')\n",
    "silhouette_score(dfp[:,1:],km.labels_)"
   ]
  },
  {
   "cell_type": "code",
   "execution_count": 26,
   "id": "545c658f",
   "metadata": {},
   "outputs": [
    {
     "data": {
      "text/plain": [
       "1.0"
      ]
     },
     "execution_count": 26,
     "metadata": {},
     "output_type": "execute_result"
    }
   ],
   "source": [
    "from sklearn.cluster import Birch\n",
    "bi=Birch(n_clusters=6).fit(dfr[:,1:])\n",
    "dfp=dfr.with_columns(birch=bi.labels_)\n",
    "dfp=dfp['unique_id','birch']\n",
    "dfi=dfi.drop('birch',strict=False)\n",
    "dfi=dfi.join(dfp,on='unique_id')\n",
    "#dfi.write_csv('Trauma-US.csv')\n",
    "silhouette_score(dfp[:,1:],bi.labels_)"
   ]
  },
  {
   "cell_type": "code",
   "execution_count": 27,
   "id": "66cf563f",
   "metadata": {},
   "outputs": [],
   "source": [
    "dfi=dfi.join(dfp,on='unique_id')\n",
    "dfi.write_csv('Trauma-US.csv')"
   ]
  },
  {
   "cell_type": "code",
   "execution_count": 67,
   "id": "e1516208",
   "metadata": {},
   "outputs": [
    {
     "data": {
      "text/plain": [
       "Text(0.5, 0, 'Epsilon distance')"
      ]
     },
     "execution_count": 67,
     "metadata": {},
     "output_type": "execute_result"
    },
    {
     "data": {
      "image/png": "[encoded data removed]",
      "text/plain": [
       "<Figure size 640x480 with 1 Axes>"
      ]
     },
     "metadata": {},
     "output_type": "display_data"
    }
   ],
   "source": [
    "import matplotlib.pyplot as plt\n",
    "import math\n",
    "dfp=df_fr.with_columns(ynorm=((pl.col('y')-pl.col('y').mean()) / pl.col('y').std()).over('unique_id'))\n",
    "dfp=dfp.fill_nan(0)\n",
    "dfp=dfp.pivot(index='unique_id',on='ds',values='ynorm',aggregate_function='sum')\n",
    "def calculate_kn_distance(X,k):\n",
    "    kn_distance = []\n",
    "    for i in range(len(X)):\n",
    "        eucl_dist = []\n",
    "        for j in range(len(X)):\n",
    "            eucl_dist.append(\n",
    "                math.sqrt(\n",
    "                    ((X[i,0] - X[j,0]) ** 2) +\n",
    "                    ((X[i,1] - X[j,1]) ** 2)))\n",
    "        eucl_dist.sort()\n",
    "        kn_distance.append(eucl_dist[k])\n",
    "    return kn_distance\n",
    "eps_dist = calculate_kn_distance(dfp[:,1:].to_numpy(),4)\n",
    "plt.hist(eps_dist,bins=60)\n",
    "plt.ylabel('n')\n",
    "plt.xlabel('Epsilon distance')"
   ]
  },
  {
   "cell_type": "code",
   "execution_count": 80,
   "id": "1a9d5ce1",
   "metadata": {},
   "outputs": [
    {
     "data": {
      "image/png": "[encoded data removed]",
      "text/plain": [
       "<Figure size 1000x600 with 1 Axes>"
      ]
     },
     "metadata": {},
     "output_type": "display_data"
    }
   ],
   "source": [
    "import numpy as np\n",
    "from sklearn.neighbors import NearestNeighbors\n",
    "import matplotlib.pyplot as plt\n",
    "k = 5  # Choose a value for k (often set to MinPts in DBSCAN)\n",
    "neigh = NearestNeighbors(n_neighbors=k)\n",
    "neigh.fit(dfr[:,1:])\n",
    "distances, _ = neigh.kneighbors(dfr[:,1:])\n",
    "k_distances = np.sort(distances[:, k-1])\n",
    "plt.figure(figsize=(10, 6))\n",
    "plt.plot(k_distances)\n",
    "plt.xlabel('Points (sorted by k-distance)')\n",
    "plt.ylabel(f'{k}-th nearest neighbor distance')\n",
    "plt.title('K-distance Graph')\n",
    "plt.grid(True)"
   ]
  },
  {
   "cell_type": "code",
   "execution_count": 5,
   "id": "79d8994f",
   "metadata": {},
   "outputs": [],
   "source": [
    "from sklearn.cluster import DBSCAN\n",
    "db = DBSCAN(eps=.2,min_samples=20).fit(dfr[:,1:])\n",
    "dfp=dfr.with_columns(dbscan=db.labels_)\n",
    "dfp=dfp['unique_id','dbscan']\n",
    "#if 'dbscan' in dfi.columns:\n",
    "dfi=dfi.drop('dbscan',strict=False)\n",
    "dfi=dfi.join(dfp,on='unique_id')\n",
    "dfi.write_csv('Trauma-US.csv')"
   ]
  },
  {
   "cell_type": "code",
   "execution_count": 83,
   "id": "cd6bf9d9",
   "metadata": {},
   "outputs": [
    {
     "data": {
      "text/plain": [
       "1.0"
      ]
     },
     "execution_count": 83,
     "metadata": {},
     "output_type": "execute_result"
    }
   ],
   "source": [
    "silhouette_score(dfp[:,1:],db.labels_)"
   ]
  },
  {
   "cell_type": "code",
   "execution_count": null,
   "id": "835c8689",
   "metadata": {},
   "outputs": [
    {
     "data": {
      "text/plain": [
       "'c:\\\\Users\\\\smishra14\\\\setup\\\\repos\\\\fcst\\\\archive\\\\charts.html'"
      ]
     },
     "execution_count": 127,
     "metadata": {},
     "output_type": "execute_result"
    }
   ],
   "source": [
    "df1=df_fr.join(dfp,on='unique_id')\n",
    "page= Page()\n",
    "for c in df1['cluster'].unique():\n",
    "    bar = Line()\n",
    "    bar.add_xaxis(df1['ds'].unique().to_list())\n",
    "    dd=df1.filter(pl.col('cluster')==c).sort('ds')\n",
    "    for i in dd['unique_id'].unique():\n",
    "        bar.add_yaxis(i,dd.filter(pl.col('unique_id')==i)['y'].to_list(),label_opts=opts.LabelOpts(is_show=False))\n",
    "    bar.set_global_opts(title_opts=opts.TitleOpts(title=\"Cluster \"+str(c)),legend_opts=opts.LegendOpts(is_show=False),\n",
    "                        datazoom_opts=opts.DataZoomOpts(is_show=True,yaxis_index=0,orient='vertical',range_start=0,range_end=100),\n",
    "                        )\n",
    "    page.add(bar)\n",
    "    page.page_title='Trauma US'\n",
    "page.render('charts.html')"
   ]
  },
  {
   "cell_type": "code",
   "execution_count": null,
   "id": "37121e0e",
   "metadata": {},
   "outputs": [],
   "source": [
    "px.line(df1.filter(pl.col('cluster')==3).sort('ds'),x='ds',y='y',color='unique_id',facet_col_wrap=2,height=500)"
   ]
  },
  {
   "cell_type": "code",
   "execution_count": null,
   "id": "6479bb77",
   "metadata": {},
   "outputs": [],
   "source": [
    "import numpy as np\n",
    "from statsmodels.tsa.seasonal import STL \n",
    "results=[]\n",
    "def seasonal_strength(ts_data,unique_id_val):\n",
    "    stl = STL(ts_data['y'], period=12, robust=True)\n",
    "    decomposition = stl.fit()\n",
    "    seasonal_var = np.var(decomposition.seasonal)\n",
    "    remainder_var = np.var(decomposition.resid)\n",
    "    #remainder_var = np.var(decomposition.resid+seasonal_var)\n",
    "    if seasonal_var + remainder_var == 0:\n",
    "        seasonal_strength = 0.0\n",
    "    else:\n",
    "        seasonal_strength = seasonal_var / (seasonal_var + remainder_var)\n",
    "        #seasonal_strength = seasonal_var / remainder_var\n",
    "    #seasonal_strength = max(0.0, min(1.0, seasonal_strength))\n",
    "    results.append({'unique_id': unique_id_val,'seasonal_strength': seasonal_strength,'n_periods': len(ts_data)})\n",
    "    return results\n",
    "for i in df_fr['unique_id'].unique():\n",
    "    seasonal_strength(df_fr.filter(pl.col('unique_id')==i),i)\n",
    "results=pl.DataFrame(results)\n",
    "results=results.fill_nan(0).sort('seasonal_strength',descending=True)"
   ]
  },
  {
   "cell_type": "code",
   "execution_count": null,
   "id": "c0f273f9",
   "metadata": {},
   "outputs": [],
   "source": [
    "pdf = df_fr.with_columns(month = pl.col('ds').dt.month())\n",
    "pdf = pdf.with_columns(year=pl.col('ds').dt.year())\n",
    "for i in pdf['unique_id'].unique():\n",
    "    dd=pdf.with_columns(year=pl.when(pl.col('year')==2025).then(2022).otherwise(pl.col('year')))\n",
    "    dd=dd.with_columns(pl.col('month').cast(pl.Utf8))\n",
    "    dd=dd.filter(pl.col('unique_id')==i).pivot(on='year',index='month',values='y',aggregate_function='sum')\n",
    "    print(dd[['2022','2023','2024']].corr())\n",
    "    #pdf.filter(pl.col('unique_id')==i).corr()\n"
   ]
  },
  {
   "cell_type": "code",
   "execution_count": 6,
   "id": "26f5178d",
   "metadata": {},
   "outputs": [
    {
     "data": {
      "application/vnd.plotly.v1+json": {
       "config": {
        "plotlyServerURL": "https://plot.ly"
       },
       "data": [
        {
         "hovertemplate": "year=2022<br>unique_id=AUSTRALIA,5517F301<br>month=%{x}<br>y=%{y}<extra></extra>",
         "legendgroup": "2022",
         "line": {
          "color": "#636efa",
          "dash": "solid"
         },
         "marker": {
          "symbol": "circle"
         },
         "mode": "lines",
         "name": "2022",
         "orientation": "v",
         "showlegend": true,
         "type": "scatter",
         "x": {
          "bdata": "CAkKCww=",
          "dtype": "i1"
         },
         "xaxis": "x5",
         "y": {
          "bdata": "AACIQgAAkkIAAJpCAAC2QgAAPEI=",
          "dtype": "f4"
         },
         "yaxis": "y5"
        },
        {
         "hovertemplate": "year=2022<br>unique_id=AUSTRALIA,5510F601<br>month=%{x}<br>y=%{y}<extra></extra>",
         "legendgroup": "2022",
         "line": {
          "color": "#636efa",
          "dash": "solid"
         },
         "marker": {
          "symbol": "circle"
         },
         "mode": "lines",
         "name": "2022",
         "orientation": "v",
         "showlegend": false,
         "type": "scatter",
         "x": {
          "bdata": "CAkKCww=",
          "dtype": "i1"
         },
         "xaxis": "x6",
         "y": {
          "bdata": "AAA8QgAANEIAAFxCAAB4QgAADEI=",
          "dtype": "f4"
         },
         "yaxis": "y6"
        },
        {
         "hovertemplate": "year=2022<br>unique_id=AUSTRALIA,5530-G-210-E<br>month=%{x}<br>y=%{y}<extra></extra>",
         "legendgroup": "2022",
         "line": {
          "color": "#636efa",
          "dash": "solid"
         },
         "marker": {
          "symbol": "circle"
         },
         "mode": "lines",
         "name": "2022",
         "orientation": "v",
         "showlegend": false,
         "type": "scatter",
         "x": {
          "bdata": "CAkKCww=",
          "dtype": "i1"
         },
         "xaxis": "x3",
         "y": {
          "bdata": "AABQQQAAQEEAADBBAACIQQAAoEA=",
          "dtype": "f4"
         },
         "yaxis": "y3"
        },
        {
         "hovertemplate": "year=2022<br>unique_id=AUSTRALIA,5530-G-610-E<br>month=%{x}<br>y=%{y}<extra></extra>",
         "legendgroup": "2022",
         "line": {
          "color": "#636efa",
          "dash": "solid"
         },
         "marker": {
          "symbol": "circle"
         },
         "mode": "lines",
         "name": "2022",
         "orientation": "v",
         "showlegend": false,
         "type": "scatter",
         "x": {
          "bdata": "CAkKCww=",
          "dtype": "i1"
         },
         "xaxis": "x4",
         "y": {
          "bdata": "AADYQQAA+EEAALBBAADgQQAAmEE=",
          "dtype": "f4"
         },
         "yaxis": "y4"
        },
        {
         "hovertemplate": "year=2022<br>unique_id=AUSTRALIA,5515-F-502<br>month=%{x}<br>y=%{y}<extra></extra>",
         "legendgroup": "2022",
         "line": {
          "color": "#636efa",
          "dash": "solid"
         },
         "marker": {
          "symbol": "circle"
         },
         "mode": "lines",
         "name": "2022",
         "orientation": "v",
         "showlegend": false,
         "type": "scatter",
         "x": {
          "bdata": "CAkKCww=",
          "dtype": "i1"
         },
         "xaxis": "x",
         "y": {
          "bdata": "AAAQQQAA4EAAAMBAAACgQAAAQEA=",
          "dtype": "f4"
         },
         "yaxis": "y"
        },
        {
         "hovertemplate": "year=2022<br>unique_id=NEW ZEALAND,5551-G-299-E<br>month=%{x}<br>y=%{y}<extra></extra>",
         "legendgroup": "2022",
         "line": {
          "color": "#636efa",
          "dash": "solid"
         },
         "marker": {
          "symbol": "circle"
         },
         "mode": "lines",
         "name": "2022",
         "orientation": "v",
         "showlegend": false,
         "type": "scatter",
         "x": {
          "bdata": "CAkKCww=",
          "dtype": "i1"
         },
         "xaxis": "x2",
         "y": {
          "bdata": "AAAgQgAA8EEAAChCAAAIQgAAsEE=",
          "dtype": "f4"
         },
         "yaxis": "y2"
        },
        {
         "hovertemplate": "year=2023<br>unique_id=AUSTRALIA,5517F301<br>month=%{x}<br>y=%{y}<extra></extra>",
         "legendgroup": "2023",
         "line": {
          "color": "#EF553B",
          "dash": "solid"
         },
         "marker": {
          "symbol": "circle"
         },
         "mode": "lines",
         "name": "2023",
         "orientation": "v",
         "showlegend": true,
         "type": "scatter",
         "x": {
          "bdata": "AQIDBAUGBwgJCgsM",
          "dtype": "i1"
         },
         "xaxis": "x5",
         "y": {
          "bdata": "AACGQgAAkEIAAPJCAACCQgAA2kIAAKhCAACWQgAAwEIAAKxCAADOQgAA6EIAAHxC",
          "dtype": "f4"
         },
         "yaxis": "y5"
        },
        {
         "hovertemplate": "year=2023<br>unique_id=AUSTRALIA,5510F601<br>month=%{x}<br>y=%{y}<extra></extra>",
         "legendgroup": "2023",
         "line": {
          "color": "#EF553B",
          "dash": "solid"
         },
         "marker": {
          "symbol": "circle"
         },
         "mode": "lines",
         "name": "2023",
         "orientation": "v",
         "showlegend": false,
         "type": "scatter",
         "x": {
          "bdata": "AQIDBAUGBwgJCgsM",
          "dtype": "i1"
         },
         "xaxis": "x6",
         "y": {
          "bdata": "AAAoQgAAWEIAAIpCAAAoQgAAkkIAAEBCAAB4QgAAYEIAAEBCAABkQgAATEIAACRC",
          "dtype": "f4"
         },
         "yaxis": "y6"
        },
        {
         "hovertemplate": "year=2023<br>unique_id=AUSTRALIA,5530-G-210-E<br>month=%{x}<br>y=%{y}<extra></extra>",
         "legendgroup": "2023",
         "line": {
          "color": "#EF553B",
          "dash": "solid"
         },
         "marker": {
          "symbol": "circle"
         },
         "mode": "lines",
         "name": "2023",
         "orientation": "v",
         "showlegend": false,
         "type": "scatter",
         "x": {
          "bdata": "AQIDBAUGBwgJCgsM",
          "dtype": "i1"
         },
         "xaxis": "x3",
         "y": {
          "bdata": "AACAQAAAqEEAAMhBAACAQAAAmEEAADBBAAAgQQAAkEEAAHBBAABAQQAAoEEAAOBA",
          "dtype": "f4"
         },
         "yaxis": "y3"
        },
        {
         "hovertemplate": "year=2023<br>unique_id=AUSTRALIA,5530-G-610-E<br>month=%{x}<br>y=%{y}<extra></extra>",
         "legendgroup": "2023",
         "line": {
          "color": "#EF553B",
          "dash": "solid"
         },
         "marker": {
          "symbol": "circle"
         },
         "mode": "lines",
         "name": "2023",
         "orientation": "v",
         "showlegend": false,
         "type": "scatter",
         "x": {
          "bdata": "AQIDBAUGBwgJCgsM",
          "dtype": "i1"
         },
         "xaxis": "x4",
         "y": {
          "bdata": "AACoQQAAEEIAAAxCAADAQQAAGEIAABRCAADYQQAA4EEAABBCAADoQQAABEIAAJhB",
          "dtype": "f4"
         },
         "yaxis": "y4"
        },
        {
         "hovertemplate": "year=2023<br>unique_id=AUSTRALIA,5515-F-502<br>month=%{x}<br>y=%{y}<extra></extra>",
         "legendgroup": "2023",
         "line": {
          "color": "#EF553B",
          "dash": "solid"
         },
         "marker": {
          "symbol": "circle"
         },
         "mode": "lines",
         "name": "2023",
         "orientation": "v",
         "showlegend": false,
         "type": "scatter",
         "x": {
          "bdata": "AQIDBAUGBwgJCgsM",
          "dtype": "i1"
         },
         "xaxis": "x",
         "y": {
          "bdata": "AACAQAAAIEEAAMBAAACAQAAAQEEAADBBAAAQQQAAMEEAAABBAADAQAAAUEEAAIBA",
          "dtype": "f4"
         },
         "yaxis": "y"
        },
        {
         "hovertemplate": "year=2023<br>unique_id=NEW ZEALAND,5551-G-299-E<br>month=%{x}<br>y=%{y}<extra></extra>",
         "legendgroup": "2023",
         "line": {
          "color": "#EF553B",
          "dash": "solid"
         },
         "marker": {
          "symbol": "circle"
         },
         "mode": "lines",
         "name": "2023",
         "orientation": "v",
         "showlegend": false,
         "type": "scatter",
         "x": {
          "bdata": "AQIDBAUGBwgJCgsM",
          "dtype": "i1"
         },
         "xaxis": "x2",
         "y": {
          "bdata": "AADYQQAAGEIAAFRCAADIQQAANEIAACRCAADAQQAABEIAAARCAAAIQgAAIEIAANBB",
          "dtype": "f4"
         },
         "yaxis": "y2"
        },
        {
         "hovertemplate": "year=2024<br>unique_id=AUSTRALIA,5517F301<br>month=%{x}<br>y=%{y}<extra></extra>",
         "legendgroup": "2024",
         "line": {
          "color": "#00cc96",
          "dash": "solid"
         },
         "marker": {
          "symbol": "circle"
         },
         "mode": "lines",
         "name": "2024",
         "orientation": "v",
         "showlegend": true,
         "type": "scatter",
         "x": {
          "bdata": "AQIDBAUGBwgJCgsM",
          "dtype": "i1"
         },
         "xaxis": "x5",
         "y": {
          "bdata": "AACwQgAAqEIAAMpCAAC4QgAA6EIAAMZCAAD+QgAAyEIAAK5CAADmQgAA4EIAAHxC",
          "dtype": "f4"
         },
         "yaxis": "y5"
        },
        {
         "hovertemplate": "year=2024<br>unique_id=AUSTRALIA,5510F601<br>month=%{x}<br>y=%{y}<extra></extra>",
         "legendgroup": "2024",
         "line": {
          "color": "#00cc96",
          "dash": "solid"
         },
         "marker": {
          "symbol": "circle"
         },
         "mode": "lines",
         "name": "2024",
         "orientation": "v",
         "showlegend": false,
         "type": "scatter",
         "x": {
          "bdata": "AQIDBAUGBwgJCgsM",
          "dtype": "i1"
         },
         "xaxis": "x6",
         "y": {
          "bdata": "AAA8QgAAZEIAAFRCAABQQgAAZEIAAGBCAAAgQgAAaEIAAEhCAAAwQgAAWEIAAAhC",
          "dtype": "f4"
         },
         "yaxis": "y6"
        },
        {
         "hovertemplate": "year=2024<br>unique_id=AUSTRALIA,5530-G-210-E<br>month=%{x}<br>y=%{y}<extra></extra>",
         "legendgroup": "2024",
         "line": {
          "color": "#00cc96",
          "dash": "solid"
         },
         "marker": {
          "symbol": "circle"
         },
         "mode": "lines",
         "name": "2024",
         "orientation": "v",
         "showlegend": false,
         "type": "scatter",
         "x": {
          "bdata": "AQIDBAUGBwgJCgsM",
          "dtype": "i1"
         },
         "xaxis": "x3",
         "y": {
          "bdata": "AADAQAAAoEEAAIBBAABwQQAAgEEAACBBAABQQQAAsEEAALhBAACIQQAAmEEAACBB",
          "dtype": "f4"
         },
         "yaxis": "y3"
        },
        {
         "hovertemplate": "year=2024<br>unique_id=AUSTRALIA,5530-G-610-E<br>month=%{x}<br>y=%{y}<extra></extra>",
         "legendgroup": "2024",
         "line": {
          "color": "#00cc96",
          "dash": "solid"
         },
         "marker": {
          "symbol": "circle"
         },
         "mode": "lines",
         "name": "2024",
         "orientation": "v",
         "showlegend": false,
         "type": "scatter",
         "x": {
          "bdata": "AQIDBAUGBwgJCgsM",
          "dtype": "i1"
         },
         "xaxis": "x4",
         "y": {
          "bdata": "AAD4QQAACEIAAPBBAADAQQAA6EEAAARCAAAcQgAAKEIAACRCAAAQQgAADEIAAJBB",
          "dtype": "f4"
         },
         "yaxis": "y4"
        },
        {
         "hovertemplate": "year=2024<br>unique_id=AUSTRALIA,5515-F-502<br>month=%{x}<br>y=%{y}<extra></extra>",
         "legendgroup": "2024",
         "line": {
          "color": "#00cc96",
          "dash": "solid"
         },
         "marker": {
          "symbol": "circle"
         },
         "mode": "lines",
         "name": "2024",
         "orientation": "v",
         "showlegend": false,
         "type": "scatter",
         "x": {
          "bdata": "AQIDBAUGBwgJCgsM",
          "dtype": "i1"
         },
         "xaxis": "x",
         "y": {
          "bdata": "AADgQAAAwEAAAOBAAACgQAAAQEAAAMBAAAAQQQAAwEAAAIBAAACAQAAAoEAAAIBA",
          "dtype": "f4"
         },
         "yaxis": "y"
        },
        {
         "hovertemplate": "year=2024<br>unique_id=NEW ZEALAND,5551-G-299-E<br>month=%{x}<br>y=%{y}<extra></extra>",
         "legendgroup": "2024",
         "line": {
          "color": "#00cc96",
          "dash": "solid"
         },
         "marker": {
          "symbol": "circle"
         },
         "mode": "lines",
         "name": "2024",
         "orientation": "v",
         "showlegend": false,
         "type": "scatter",
         "x": {
          "bdata": "AQIDBAUGBwgJCgsM",
          "dtype": "i1"
         },
         "xaxis": "x2",
         "y": {
          "bdata": "AACwQQAA4EEAAAxCAAAMQgAAMEIAAAxCAAAMQgAA6EEAADRCAAAoQgAANEIAAKBB",
          "dtype": "f4"
         },
         "yaxis": "y2"
        },
        {
         "hovertemplate": "year=2025<br>unique_id=AUSTRALIA,5517F301<br>month=%{x}<br>y=%{y}<extra></extra>",
         "legendgroup": "2025",
         "line": {
          "color": "#ab63fa",
          "dash": "solid"
         },
         "marker": {
          "symbol": "circle"
         },
         "mode": "lines",
         "name": "2025",
         "orientation": "v",
         "showlegend": true,
         "type": "scatter",
         "x": {
          "bdata": "AQIDBAUG",
          "dtype": "i1"
         },
         "xaxis": "x5",
         "y": {
          "bdata": "AACsQgAAvkIAAABDAAC2QgAA8EIAALBC",
          "dtype": "f4"
         },
         "yaxis": "y5"
        },
        {
         "hovertemplate": "year=2025<br>unique_id=AUSTRALIA,5510F601<br>month=%{x}<br>y=%{y}<extra></extra>",
         "legendgroup": "2025",
         "line": {
          "color": "#ab63fa",
          "dash": "solid"
         },
         "marker": {
          "symbol": "circle"
         },
         "mode": "lines",
         "name": "2025",
         "orientation": "v",
         "showlegend": false,
         "type": "scatter",
         "x": {
          "bdata": "AQIDBAUG",
          "dtype": "i1"
         },
         "xaxis": "x6",
         "y": {
          "bdata": "AAAcQgAAaEIAAERCAAA8QgAAeEIAAFRC",
          "dtype": "f4"
         },
         "yaxis": "y6"
        },
        {
         "hovertemplate": "year=2025<br>unique_id=AUSTRALIA,5530-G-210-E<br>month=%{x}<br>y=%{y}<extra></extra>",
         "legendgroup": "2025",
         "line": {
          "color": "#ab63fa",
          "dash": "solid"
         },
         "marker": {
          "symbol": "circle"
         },
         "mode": "lines",
         "name": "2025",
         "orientation": "v",
         "showlegend": false,
         "type": "scatter",
         "x": {
          "bdata": "AQIDBAUG",
          "dtype": "i1"
         },
         "xaxis": "x3",
         "y": {
          "bdata": "AABAQQAAkEEAAIBBAACgQQAAmEEAAJBB",
          "dtype": "f4"
         },
         "yaxis": "y3"
        },
        {
         "hovertemplate": "year=2025<br>unique_id=AUSTRALIA,5530-G-610-E<br>month=%{x}<br>y=%{y}<extra></extra>",
         "legendgroup": "2025",
         "line": {
          "color": "#ab63fa",
          "dash": "solid"
         },
         "marker": {
          "symbol": "circle"
         },
         "mode": "lines",
         "name": "2025",
         "orientation": "v",
         "showlegend": false,
         "type": "scatter",
         "x": {
          "bdata": "AQIDBAUG",
          "dtype": "i1"
         },
         "xaxis": "x4",
         "y": {
          "bdata": "AAAUQgAANEIAABRCAADoQQAADEIAAAxC",
          "dtype": "f4"
         },
         "yaxis": "y4"
        },
        {
         "hovertemplate": "year=2025<br>unique_id=AUSTRALIA,5515-F-502<br>month=%{x}<br>y=%{y}<extra></extra>",
         "legendgroup": "2025",
         "line": {
          "color": "#ab63fa",
          "dash": "solid"
         },
         "marker": {
          "symbol": "circle"
         },
         "mode": "lines",
         "name": "2025",
         "orientation": "v",
         "showlegend": false,
         "type": "scatter",
         "x": {
          "bdata": "AQIDBAUG",
          "dtype": "i1"
         },
         "xaxis": "x",
         "y": {
          "bdata": "AAAAQQAAAEEAAOBAAADgQAAAIEEAAEBA",
          "dtype": "f4"
         },
         "yaxis": "y"
        },
        {
         "hovertemplate": "year=2025<br>unique_id=NEW ZEALAND,5551-G-299-E<br>month=%{x}<br>y=%{y}<extra></extra>",
         "legendgroup": "2025",
         "line": {
          "color": "#ab63fa",
          "dash": "solid"
         },
         "marker": {
          "symbol": "circle"
         },
         "mode": "lines",
         "name": "2025",
         "orientation": "v",
         "showlegend": false,
         "type": "scatter",
         "x": {
          "bdata": "AQIDBAUG",
          "dtype": "i1"
         },
         "xaxis": "x2",
         "y": {
          "bdata": "AACAQQAA+EEAACxCAAA0QgAAMEIAADRC",
          "dtype": "f4"
         },
         "yaxis": "y2"
        }
       ],
       "layout": {
        "annotations": [
         {
          "font": {},
          "showarrow": false,
          "text": "unique_id=AUSTRALIA,5515-F-502",
          "x": 0.245,
          "xanchor": "center",
          "xref": "paper",
          "y": 0.2866666666666666,
          "yanchor": "bottom",
          "yref": "paper"
         },
         {
          "font": {},
          "showarrow": false,
          "text": "unique_id=NEW ZEALAND,5551-G-299-E",
          "x": 0.755,
          "xanchor": "center",
          "xref": "paper",
          "y": 0.2866666666666666,
          "yanchor": "bottom",
          "yref": "paper"
         },
         {
          "font": {},
          "showarrow": false,
          "text": "unique_id=AUSTRALIA,5530-G-210-E",
          "x": 0.245,
          "xanchor": "center",
          "xref": "paper",
          "y": 0.6433333333333333,
          "yanchor": "bottom",
          "yref": "paper"
         },
         {
          "font": {},
          "showarrow": false,
          "text": "unique_id=AUSTRALIA,5530-G-610-E",
          "x": 0.755,
          "xanchor": "center",
          "xref": "paper",
          "y": 0.6433333333333333,
          "yanchor": "bottom",
          "yref": "paper"
         },
         {
          "font": {},
          "showarrow": false,
          "text": "unique_id=AUSTRALIA,5517F301",
          "x": 0.245,
          "xanchor": "center",
          "xref": "paper",
          "y": 0.9999999999999999,
          "yanchor": "bottom",
          "yref": "paper"
         },
         {
          "font": {},
          "showarrow": false,
          "text": "unique_id=AUSTRALIA,5510F601",
          "x": 0.755,
          "xanchor": "center",
          "xref": "paper",
          "y": 0.9999999999999999,
          "yanchor": "bottom",
          "yref": "paper"
         }
        ],
        "height": 800,
        "legend": {
         "title": {
          "text": "year"
         },
         "tracegroupgap": 0
        },
        "margin": {
         "t": 60
        },
        "template": {
         "data": {
          "bar": [
           {
            "error_x": {
             "color": "#2a3f5f"
            },
            "error_y": {
             "color": "#2a3f5f"
            },
            "marker": {
             "line": {
              "color": "#E5ECF6",
              "width": 0.5
             },
             "pattern": {
              "fillmode": "overlay",
              "size": 10,
              "solidity": 0.2
             }
            },
            "type": "bar"
           }
          ],
          "barpolar": [
           {
            "marker": {
             "line": {
              "color": "#E5ECF6",
              "width": 0.5
             },
             "pattern": {
              "fillmode": "overlay",
              "size": 10,
              "solidity": 0.2
             }
            },
            "type": "barpolar"
           }
          ],
          "carpet": [
           {
            "aaxis": {
             "endlinecolor": "#2a3f5f",
             "gridcolor": "white",
             "linecolor": "white",
             "minorgridcolor": "white",
             "startlinecolor": "#2a3f5f"
            },
            "baxis": {
             "endlinecolor": "#2a3f5f",
             "gridcolor": "white",
             "linecolor": "white",
             "minorgridcolor": "white",
             "startlinecolor": "#2a3f5f"
            },
            "type": "carpet"
           }
          ],
          "choropleth": [
           {
            "colorbar": {
             "outlinewidth": 0,
             "ticks": ""
            },
            "type": "choropleth"
           }
          ],
          "contour": [
           {
            "colorbar": {
             "outlinewidth": 0,
             "ticks": ""
            },
            "colorscale": [
             [
              0,
              "#0d0887"
             ],
             [
              0.1111111111111111,
              "#46039f"
             ],
             [
              0.2222222222222222,
              "#7201a8"
             ],
             [
              0.3333333333333333,
              "#9c179e"
             ],
             [
              0.4444444444444444,
              "#bd3786"
             ],
             [
              0.5555555555555556,
              "#d8576b"
             ],
             [
              0.6666666666666666,
              "#ed7953"
             ],
             [
              0.7777777777777778,
              "#fb9f3a"
             ],
             [
              0.8888888888888888,
              "#fdca26"
             ],
             [
              1,
              "#f0f921"
             ]
            ],
            "type": "contour"
           }
          ],
          "contourcarpet": [
           {
            "colorbar": {
             "outlinewidth": 0,
             "ticks": ""
            },
            "type": "contourcarpet"
           }
          ],
          "heatmap": [
           {
            "colorbar": {
             "outlinewidth": 0,
             "ticks": ""
            },
            "colorscale": [
             [
              0,
              "#0d0887"
             ],
             [
              0.1111111111111111,
              "#46039f"
             ],
             [
              0.2222222222222222,
              "#7201a8"
             ],
             [
              0.3333333333333333,
              "#9c179e"
             ],
             [
              0.4444444444444444,
              "#bd3786"
             ],
             [
              0.5555555555555556,
              "#d8576b"
             ],
             [
              0.6666666666666666,
              "#ed7953"
             ],
             [
              0.7777777777777778,
              "#fb9f3a"
             ],
             [
              0.8888888888888888,
              "#fdca26"
             ],
             [
              1,
              "#f0f921"
             ]
            ],
            "type": "heatmap"
           }
          ],
          "histogram": [
           {
            "marker": {
             "pattern": {
              "fillmode": "overlay",
              "size": 10,
              "solidity": 0.2
             }
            },
            "type": "histogram"
           }
          ],
          "histogram2d": [
           {
            "colorbar": {
             "outlinewidth": 0,
             "ticks": ""
            },
            "colorscale": [
             [
              0,
              "#0d0887"
             ],
             [
              0.1111111111111111,
              "#46039f"
             ],
             [
              0.2222222222222222,
              "#7201a8"
             ],
             [
              0.3333333333333333,
              "#9c179e"
             ],
             [
              0.4444444444444444,
              "#bd3786"
             ],
             [
              0.5555555555555556,
              "#d8576b"
             ],
             [
              0.6666666666666666,
              "#ed7953"
             ],
             [
              0.7777777777777778,
              "#fb9f3a"
             ],
             [
              0.8888888888888888,
              "#fdca26"
             ],
             [
              1,
              "#f0f921"
             ]
            ],
            "type": "histogram2d"
           }
          ],
          "histogram2dcontour": [
           {
            "colorbar": {
             "outlinewidth": 0,
             "ticks": ""
            },
            "colorscale": [
             [
              0,
              "#0d0887"
             ],
             [
              0.1111111111111111,
              "#46039f"
             ],
             [
              0.2222222222222222,
              "#7201a8"
             ],
             [
              0.3333333333333333,
              "#9c179e"
             ],
             [
              0.4444444444444444,
              "#bd3786"
             ],
             [
              0.5555555555555556,
              "#d8576b"
             ],
             [
              0.6666666666666666,
              "#ed7953"
             ],
             [
              0.7777777777777778,
              "#fb9f3a"
             ],
             [
              0.8888888888888888,
              "#fdca26"
             ],
             [
              1,
              "#f0f921"
             ]
            ],
            "type": "histogram2dcontour"
           }
          ],
          "mesh3d": [
           {
            "colorbar": {
             "outlinewidth": 0,
             "ticks": ""
            },
            "type": "mesh3d"
           }
          ],
          "parcoords": [
           {
            "line": {
             "colorbar": {
              "outlinewidth": 0,
              "ticks": ""
             }
            },
            "type": "parcoords"
           }
          ],
          "pie": [
           {
            "automargin": true,
            "type": "pie"
           }
          ],
          "scatter": [
           {
            "fillpattern": {
             "fillmode": "overlay",
             "size": 10,
             "solidity": 0.2
            },
            "type": "scatter"
           }
          ],
          "scatter3d": [
           {
            "line": {
             "colorbar": {
              "outlinewidth": 0,
              "ticks": ""
             }
            },
            "marker": {
             "colorbar": {
              "outlinewidth": 0,
              "ticks": ""
             }
            },
            "type": "scatter3d"
           }
          ],
          "scattercarpet": [
           {
            "marker": {
             "colorbar": {
              "outlinewidth": 0,
              "ticks": ""
             }
            },
            "type": "scattercarpet"
           }
          ],
          "scattergeo": [
           {
            "marker": {
             "colorbar": {
              "outlinewidth": 0,
              "ticks": ""
             }
            },
            "type": "scattergeo"
           }
          ],
          "scattergl": [
           {
            "marker": {
             "colorbar": {
              "outlinewidth": 0,
              "ticks": ""
             }
            },
            "type": "scattergl"
           }
          ],
          "scattermap": [
           {
            "marker": {
             "colorbar": {
              "outlinewidth": 0,
              "ticks": ""
             }
            },
            "type": "scattermap"
           }
          ],
          "scattermapbox": [
           {
            "marker": {
             "colorbar": {
              "outlinewidth": 0,
              "ticks": ""
             }
            },
            "type": "scattermapbox"
           }
          ],
          "scatterpolar": [
           {
            "marker": {
             "colorbar": {
              "outlinewidth": 0,
              "ticks": ""
             }
            },
            "type": "scatterpolar"
           }
          ],
          "scatterpolargl": [
           {
            "marker": {
             "colorbar": {
              "outlinewidth": 0,
              "ticks": ""
             }
            },
            "type": "scatterpolargl"
           }
          ],
          "scatterternary": [
           {
            "marker": {
             "colorbar": {
              "outlinewidth": 0,
              "ticks": ""
             }
            },
            "type": "scatterternary"
           }
          ],
          "surface": [
           {
            "colorbar": {
             "outlinewidth": 0,
             "ticks": ""
            },
            "colorscale": [
             [
              0,
              "#0d0887"
             ],
             [
              0.1111111111111111,
              "#46039f"
             ],
             [
              0.2222222222222222,
              "#7201a8"
             ],
             [
              0.3333333333333333,
              "#9c179e"
             ],
             [
              0.4444444444444444,
              "#bd3786"
             ],
             [
              0.5555555555555556,
              "#d8576b"
             ],
             [
              0.6666666666666666,
              "#ed7953"
             ],
             [
              0.7777777777777778,
              "#fb9f3a"
             ],
             [
              0.8888888888888888,
              "#fdca26"
             ],
             [
              1,
              "#f0f921"
             ]
            ],
            "type": "surface"
           }
          ],
          "table": [
           {
            "cells": {
             "fill": {
              "color": "#EBF0F8"
             },
             "line": {
              "color": "white"
             }
            },
            "header": {
             "fill": {
              "color": "#C8D4E3"
             },
             "line": {
              "color": "white"
             }
            },
            "type": "table"
           }
          ]
         },
         "layout": {
          "annotationdefaults": {
           "arrowcolor": "#2a3f5f",
           "arrowhead": 0,
           "arrowwidth": 1
          },
          "autotypenumbers": "strict",
          "coloraxis": {
           "colorbar": {
            "outlinewidth": 0,
            "ticks": ""
           }
          },
          "colorscale": {
           "diverging": [
            [
             0,
             "#8e0152"
            ],
            [
             0.1,
             "#c51b7d"
            ],
            [
             0.2,
             "#de77ae"
            ],
            [
             0.3,
             "#f1b6da"
            ],
            [
             0.4,
             "#fde0ef"
            ],
            [
             0.5,
             "#f7f7f7"
            ],
            [
             0.6,
             "#e6f5d0"
            ],
            [
             0.7,
             "#b8e186"
            ],
            [
             0.8,
             "#7fbc41"
            ],
            [
             0.9,
             "#4d9221"
            ],
            [
             1,
             "#276419"
            ]
           ],
           "sequential": [
            [
             0,
             "#0d0887"
            ],
            [
             0.1111111111111111,
             "#46039f"
            ],
            [
             0.2222222222222222,
             "#7201a8"
            ],
            [
             0.3333333333333333,
             "#9c179e"
            ],
            [
             0.4444444444444444,
             "#bd3786"
            ],
            [
             0.5555555555555556,
             "#d8576b"
            ],
            [
             0.6666666666666666,
             "#ed7953"
            ],
            [
             0.7777777777777778,
             "#fb9f3a"
            ],
            [
             0.8888888888888888,
             "#fdca26"
            ],
            [
             1,
             "#f0f921"
            ]
           ],
           "sequentialminus": [
            [
             0,
             "#0d0887"
            ],
            [
             0.1111111111111111,
             "#46039f"
            ],
            [
             0.2222222222222222,
             "#7201a8"
            ],
            [
             0.3333333333333333,
             "#9c179e"
            ],
            [
             0.4444444444444444,
             "#bd3786"
            ],
            [
             0.5555555555555556,
             "#d8576b"
            ],
            [
             0.6666666666666666,
             "#ed7953"
            ],
            [
             0.7777777777777778,
             "#fb9f3a"
            ],
            [
             0.8888888888888888,
             "#fdca26"
            ],
            [
             1,
             "#f0f921"
            ]
           ]
          },
          "colorway": [
           "#636efa",
           "#EF553B",
           "#00cc96",
           "#ab63fa",
           "#FFA15A",
           "#19d3f3",
           "#FF6692",
           "#B6E880",
           "#FF97FF",
           "#FECB52"
          ],
          "font": {
           "color": "#2a3f5f"
          },
          "geo": {
           "bgcolor": "white",
           "lakecolor": "white",
           "landcolor": "#E5ECF6",
           "showlakes": true,
           "showland": true,
           "subunitcolor": "white"
          },
          "hoverlabel": {
           "align": "left"
          },
          "hovermode": "closest",
          "mapbox": {
           "style": "light"
          },
          "paper_bgcolor": "white",
          "plot_bgcolor": "#E5ECF6",
          "polar": {
           "angularaxis": {
            "gridcolor": "white",
            "linecolor": "white",
            "ticks": ""
           },
           "bgcolor": "#E5ECF6",
           "radialaxis": {
            "gridcolor": "white",
            "linecolor": "white",
            "ticks": ""
           }
          },
          "scene": {
           "xaxis": {
            "backgroundcolor": "#E5ECF6",
            "gridcolor": "white",
            "gridwidth": 2,
            "linecolor": "white",
            "showbackground": true,
            "ticks": "",
            "zerolinecolor": "white"
           },
           "yaxis": {
            "backgroundcolor": "#E5ECF6",
            "gridcolor": "white",
            "gridwidth": 2,
            "linecolor": "white",
            "showbackground": true,
            "ticks": "",
            "zerolinecolor": "white"
           },
           "zaxis": {
            "backgroundcolor": "#E5ECF6",
            "gridcolor": "white",
            "gridwidth": 2,
            "linecolor": "white",
            "showbackground": true,
            "ticks": "",
            "zerolinecolor": "white"
           }
          },
          "shapedefaults": {
           "line": {
            "color": "#2a3f5f"
           }
          },
          "ternary": {
           "aaxis": {
            "gridcolor": "white",
            "linecolor": "white",
            "ticks": ""
           },
           "baxis": {
            "gridcolor": "white",
            "linecolor": "white",
            "ticks": ""
           },
           "bgcolor": "#E5ECF6",
           "caxis": {
            "gridcolor": "white",
            "linecolor": "white",
            "ticks": ""
           }
          },
          "title": {
           "x": 0.05
          },
          "xaxis": {
           "automargin": true,
           "gridcolor": "white",
           "linecolor": "white",
           "ticks": "",
           "title": {
            "standoff": 15
           },
           "zerolinecolor": "white",
           "zerolinewidth": 2
          },
          "yaxis": {
           "automargin": true,
           "gridcolor": "white",
           "linecolor": "white",
           "ticks": "",
           "title": {
            "standoff": 15
           },
           "zerolinecolor": "white",
           "zerolinewidth": 2
          }
         }
        },
        "xaxis": {
         "anchor": "y",
         "domain": [
          0,
          0.49
         ],
         "title": {
          "text": "month"
         }
        },
        "xaxis2": {
         "anchor": "y2",
         "domain": [
          0.51,
          1
         ],
         "matches": "x",
         "title": {
          "text": "month"
         }
        },
        "xaxis3": {
         "anchor": "y3",
         "domain": [
          0,
          0.49
         ],
         "matches": "x",
         "showticklabels": false
        },
        "xaxis4": {
         "anchor": "y4",
         "domain": [
          0.51,
          1
         ],
         "matches": "x",
         "showticklabels": false
        },
        "xaxis5": {
         "anchor": "y5",
         "domain": [
          0,
          0.49
         ],
         "matches": "x",
         "showticklabels": false
        },
        "xaxis6": {
         "anchor": "y6",
         "domain": [
          0.51,
          1
         ],
         "matches": "x",
         "showticklabels": false
        },
        "yaxis": {
         "anchor": "x",
         "domain": [
          0,
          0.2866666666666666
         ],
         "title": {
          "text": "y"
         }
        },
        "yaxis2": {
         "anchor": "x2",
         "domain": [
          0,
          0.2866666666666666
         ],
         "matches": "y",
         "showticklabels": false
        },
        "yaxis3": {
         "anchor": "x3",
         "domain": [
          0.35666666666666663,
          0.6433333333333333
         ],
         "matches": "y",
         "title": {
          "text": "y"
         }
        },
        "yaxis4": {
         "anchor": "x4",
         "domain": [
          0.35666666666666663,
          0.6433333333333333
         ],
         "matches": "y",
         "showticklabels": false
        },
        "yaxis5": {
         "anchor": "x5",
         "domain": [
          0.7133333333333333,
          0.9999999999999999
         ],
         "matches": "y",
         "title": {
          "text": "y"
         }
        },
        "yaxis6": {
         "anchor": "x6",
         "domain": [
          0.7133333333333333,
          0.9999999999999999
         ],
         "matches": "y",
         "showticklabels": false
        }
       }
      }
     },
     "metadata": {},
     "output_type": "display_data"
    }
   ],
   "source": [
    "\n",
    "pdf=df_fr.clone()\n",
    "pdf = pdf.with_columns(month = pl.col('ds').dt.month())\n",
    "pdf = pdf.with_columns(year=pl.col('ds').dt.year())\n",
    "px.line(pdf.filter(pl.col('unique_id').is_in(results['unique_id'][:6].to_list())),y='y',x='month',color='year',\n",
    "        facet_col='unique_id',facet_col_wrap=2,height=800)"
   ]
  },
  {
   "cell_type": "code",
   "execution_count": null,
   "id": "8084af46",
   "metadata": {},
   "outputs": [
    {
     "name": "stderr",
     "output_type": "stream",
     "text": [
      "c:\\Users\\smishra14\\setup\\miniconda\\envs\\fcst\\Lib\\site-packages\\mlflow\\data\\dataset_source_registry.py:149: UserWarning: Failed to determine whether UCVolumeDatasetSource can resolve source information for 'DF'. Exception: \n",
      "  return _dataset_source_registry.resolve(\n",
      "c:\\Users\\smishra14\\setup\\miniconda\\envs\\fcst\\Lib\\site-packages\\mlflow\\data\\dataset_source_registry.py:149: UserWarning: The specified dataset source can be interpreted in multiple ways: LocalArtifactDatasetSource, LocalArtifactDatasetSource. MLflow will assume that this is a LocalArtifactDatasetSource source.\n",
      "  return _dataset_source_registry.resolve(\n",
      "Seed set to 1\n",
      "c:\\Users\\smishra14\\setup\\miniconda\\envs\\fcst\\Lib\\site-packages\\neuralforecast\\common\\_base_model.py:537: UserWarning: val_check_steps is greater than max_steps, setting val_check_steps to max_steps.\n",
      "  warnings.warn(\n",
      "GPU available: False, used: False\n",
      "TPU available: False, using: 0 TPU cores\n",
      "HPU available: False, using: 0 HPUs\n",
      "\n",
      "  | Name         | Type          | Params | Mode \n",
      "-------------------------------------------------------\n",
      "0 | loss         | MSE           | 0      | train\n",
      "1 | valid_loss   | MSE           | 0      | train\n",
      "2 | padder_train | ConstantPad1d | 0      | train\n",
      "3 | scaler       | TemporalNorm  | 0      | train\n",
      "4 | blocks       | ModuleList    | 2.0 M  | train\n",
      "-------------------------------------------------------\n",
      "2.0 M     Trainable params\n",
      "0         Non-trainable params\n",
      "2.0 M     Total params\n",
      "7.950     Total estimated model params size (MB)\n",
      "122       Modules in train mode\n",
      "0         Modules in eval mode\n"
     ]
    },
    {
     "data": {
      "application/vnd.jupyter.widget-view+json": {
       "model_id": "cc764a39fd844efaa8d0508dbe2a5802",
       "version_major": 2,
       "version_minor": 0
      },
      "text/plain": [
       "Sanity Checking: |          | 0/? [00:00<?, ?it/s]"
      ]
     },
     "metadata": {},
     "output_type": "display_data"
    },
    {
     "data": {
      "application/vnd.jupyter.widget-view+json": {
       "model_id": "9299887bbc604c0dbc3d5e016ad470ae",
       "version_major": 2,
       "version_minor": 0
      },
      "text/plain": [
       "Training: |          | 0/? [00:00<?, ?it/s]"
      ]
     },
     "metadata": {},
     "output_type": "display_data"
    },
    {
     "data": {
      "application/vnd.jupyter.widget-view+json": {
       "model_id": "d315f711854941289d02bfebd02067ab",
       "version_major": 2,
       "version_minor": 0
      },
      "text/plain": [
       "Validation: |          | 0/? [00:00<?, ?it/s]"
      ]
     },
     "metadata": {},
     "output_type": "display_data"
    },
    {
     "name": "stderr",
     "output_type": "stream",
     "text": [
      "`Trainer.fit` stopped: `max_steps=60` reached.\n",
      "2025/07/01 18:11:28 WARNING mlflow.models.model: Model logged without a signature and input example. Please set `input_example` parameter when logging the model to auto infer the model signature.\n"
     ]
    },
    {
     "name": "stdout",
     "output_type": "stream",
     "text": [
      "🏃 View run luminous-sloth-955 at: http://localhost:5000/#/experiments/0/runs/7fe7113be5ce4ac090f2d59af92e7924\n",
      "🧪 View experiment at: http://localhost:5000/#/experiments/0\n"
     ]
    }
   ],
   "source": [
    "mlflow.pytorch.autolog(checkpoint=False)\n",
    "mlflow.set_tracking_uri(uri=\"http://localhost:5000\")\n",
    "df_fr = df_fr.fill_null(0)\n",
    "with mlflow.start_run() as run:\n",
    "    dataset: PandasDataset = mlflow.data.from_pandas(df_fr.to_pandas(), source=\"DF\")\n",
    "    mlflow.log_input(dataset, context=\"training\")\n",
    "    horizon = 56\n",
    "    input_size = 56\n",
    "    stacks = 3\n",
    "    models = [NHITS(\n",
    "                h=horizon,\n",
    "                input_size=input_size,\n",
    "                max_steps=3000,\n",
    "                stack_types=['identity'] * stacks,\n",
    "                n_blocks=[3]*stacks,\n",
    "                mlp_units=[[256, 256, 128]] * stacks,\n",
    "                n_pool_kernel_size=[2, 4, 6],\n",
    "                n_freq_downsample=[2, 4, 6],\n",
    "                interpolation_mode='nearest',\n",
    "                activation='ReLU',\n",
    "                dropout_prob_theta=0.3,\n",
    "                scaler_type='robust',\n",
    "                loss=MSE(),\n",
    "                valid_loss=MSE(),\n",
    "                batch_size=64,\n",
    "                windows_batch_size=64,\n",
    "                random_seed=1,\n",
    "                start_padding_enabled=True,\n",
    "                learning_rate=1e-3,\n",
    "                val_check_steps=100,\n",
    "            )]\n",
    "\n",
    "    nf = NeuralForecast(models=models, freq='1mo')\n",
    "    nf.fit(df=df_fr)\n",
    "    #mlflow.pytorch.get_default_conda_env()\n",
    "    #mlflow.pytorch.get_default_pip_requirements()\n",
    "mlflow.pytorch.autolog()\n",
    "nf.save(path='./checkpoints/test_run_1/',\n",
    "        model_index=None, \n",
    "        overwrite=True,\n",
    "        save_dataset=True)\n",
    "    "
   ]
  },
  {
   "cell_type": "code",
   "execution_count": null,
   "id": "981091cf",
   "metadata": {},
   "outputs": [],
   "source": [
    "import polars as pl\n",
    "import numpy as np\n",
    "from typing import List, Tuple\n",
    "import matplotlib.pyplot as plt\n",
    "import seaborn as sns\n",
    "import pandas as pd\n",
    "\n",
    "def calculate_seasonality_metrics(df: pl.DataFrame, \n",
    "                                date_col: str = 'date', \n",
    "                                product_col: str = 'product', \n",
    "                                sales_col: str = 'sales') -> pl.DataFrame:\n",
    "    \"\"\"\n",
    "    Calculate multiple seasonality metrics for products in timeseries data.\n",
    "    \n",
    "    Args:\n",
    "        df: Polars DataFrame with columns for date, product, and sales\n",
    "        date_col: Name of the date column\n",
    "        product_col: Name of the product column  \n",
    "        sales_col: Name of the sales column\n",
    "    \n",
    "    Returns:\n",
    "        DataFrame with seasonality metrics for each product\n",
    "    \"\"\"\n",
    "    \n",
    "    # Ensure date column is properly typed\n",
    "    df = df.with_columns(pl.col(date_col).str.to_date() if df[date_col].dtype == pl.Utf8 else pl.col(date_col))\n",
    "    \n",
    "    # Add month and year columns\n",
    "    df = df.with_columns([pl.col(date_col).dt.month().alias('month'),pl.col(date_col).dt.year().alias('year')])\n",
    "    # Calculate seasonality metrics\n",
    "    seasonality_metrics = (\n",
    "        df.group_by(product_col)\n",
    "        .agg([pl.col(sales_col).mean().alias('mean_sales'),pl.col(sales_col).std().alias('std_sales'),\n",
    "            pl.col(sales_col).min().alias('min_sales'), pl.col(sales_col).max().alias('max_sales'),\n",
    "            pl.col(sales_col).count().alias('n_months'),\n",
    "            \n",
    "            # Coefficient of Variation (CV)\n",
    "            (pl.col(sales_col).std() / pl.col(sales_col).mean()).alias('cv'),\n",
    "            \n",
    "            # Monthly statistics for seasonal patterns\n",
    "            #pl.col(sales_col).list().alias('sales_list'), pl.col('month').list().alias('month_list')\n",
    "            ])\n",
    "    )\n",
    "    \n",
    "    # Calculate additional seasonality metrics\n",
    "    seasonality_metrics = seasonality_metrics.with_columns([\n",
    "        # Range ratio (max/min)\n",
    "        (pl.col('max_sales') / pl.col('min_sales')).alias('range_ratio'),\n",
    "        \n",
    "        # Relative range ((max-min)/mean)\n",
    "        ((pl.col('max_sales') - pl.col('min_sales')) / pl.col('mean_sales')).alias('relative_range')\n",
    "    ])\n",
    "    print(seasonality_metrics.columns)\n",
    "    return seasonality_metrics\n",
    "\n",
    "\n",
    "def calculate_monthly_cv(df: pl.DataFrame, \n",
    "                        date_col: str = 'date', \n",
    "                        product_col: str = 'product', \n",
    "                        sales_col: str = 'sales') -> pl.DataFrame:\n",
    "    \"\"\"\n",
    "    Calculate coefficient of variation based on monthly averages.\n",
    "    This removes year-to-year growth trends and focuses on seasonal patterns.\n",
    "    \"\"\"\n",
    "    \n",
    "    df = df.with_columns(pl.col(date_col).str.to_date() if df[date_col].dtype == pl.Utf8 else pl.col(date_col))\n",
    "    df = df.with_columns(pl.col(date_col).dt.month().alias('month'))\n",
    "    \n",
    "    # Calculate average sales by month for each product\n",
    "    monthly_avg = (\n",
    "        df.group_by([product_col, 'month']).agg(pl.col(sales_col).mean().alias('avg_monthly_sales'))\n",
    "        .group_by(product_col).agg([pl.col('avg_monthly_sales').mean().alias('overall_monthly_mean'),pl.col('avg_monthly_sales').std().alias('monthly_std')])\n",
    "        .with_columns((pl.col('monthly_std') / pl.col('overall_monthly_mean')).alias('monthly_cv'))\n",
    "    )\n",
    "    return monthly_avg\n",
    "\n",
    "\n",
    "def seasonal_strength_stl_approximation(df: pl.DataFrame, date_col: str = 'date', product_col: str = 'product', sales_col: str = 'sales') -> pl.DataFrame:\n",
    "    \"\"\"\n",
    "    Approximate seasonal strength using a simplified approach.\n",
    "    This is an approximation of STL decomposition seasonal strength.\n",
    "    \"\"\"\n",
    "    \n",
    "    df = df.with_columns(pl.col(date_col).str.to_date() if df[date_col].dtype == pl.Utf8 else pl.col(date_col))\n",
    "    df = df.with_columns(pl.col(date_col).dt.month().alias('month'))\n",
    "    \n",
    "    # Calculate detrended seasonal component approximation\n",
    "    seasonal_strength = (\n",
    "        df.group_by([product_col, 'month'])\n",
    "        .agg(pl.col(sales_col).mean().alias('monthly_avg'))\n",
    "        .group_by(product_col)\n",
    "        .agg([\n",
    "            pl.col('monthly_avg').var().alias('seasonal_var'),\n",
    "            pl.col('monthly_avg').mean().alias('overall_mean')\n",
    "        ])\n",
    "        .with_columns(\n",
    "            # Seasonal strength approximation\n",
    "            (pl.col('seasonal_var') / (pl.col('overall_mean') ** 2)).alias('seasonal_strength')\n",
    "        )\n",
    "    )   \n",
    "    # This would require more complex calculations for true STL\n",
    "    # For now, we'll use a simpler seasonal variance ratio\n",
    "    return seasonal_strength\n",
    "\n",
    "\n",
    "def identify_seasonal_products(df: pl.DataFrame, date_col: str = 'date', product_col: str = 'product', sales_col: str = 'sales', cv_threshold: float = 0.3, range_ratio_threshold: float = 2.0,\n",
    "                             monthly_cv_threshold: float = 0.25) -> pl.DataFrame:\n",
    "    \"\"\"\n",
    "    Identify products with high seasonality using multiple criteria.\n",
    "    \n",
    "    Args:\n",
    "        df: Input DataFrame\n",
    "        cv_threshold: Coefficient of variation threshold\n",
    "        range_ratio_threshold: Max/min ratio threshold  \n",
    "        monthly_cv_threshold: Monthly CV threshold\n",
    "    \n",
    "    Returns:\n",
    "        DataFrame with seasonality flags and scores\n",
    "    \"\"\"\n",
    "    # Get basic seasonality metrics\n",
    "    basic_metrics = calculate_seasonality_metrics(df, date_col, product_col, sales_col)\n",
    "    # Get monthly CV\n",
    "    monthly_metrics = calculate_monthly_cv(df, date_col, product_col, sales_col)\n",
    "    # Join metrics\n",
    "    combined_metrics = basic_metrics.join(monthly_metrics, on=product_col, how='left')\n",
    "    # Create seasonality flags\n",
    "    seasonal_products = combined_metrics.with_columns([\n",
    "        # Individual criteria flags\n",
    "        (pl.col('cv') >= cv_threshold).alias('high_cv'), (pl.col('range_ratio') >= range_ratio_threshold).alias('high_range_ratio'), \n",
    "        (pl.col('monthly_cv') >= monthly_cv_threshold).alias('high_monthly_cv'),\n",
    "        # Combined seasonality score (0-3)\n",
    "        ((pl.col('cv') >= cv_threshold).cast(pl.Int32) + (pl.col('range_ratio') >= range_ratio_threshold).cast(pl.Int32) + (pl.col('monthly_cv') >= monthly_cv_threshold).cast(pl.Int32)\n",
    "        ).alias('seasonality_score'),\n",
    "        # Overall seasonal flag (meets at least 2 criteria)\n",
    "        ((pl.col('cv') >= cv_threshold).cast(pl.Int32) + (pl.col('range_ratio') >= range_ratio_threshold).cast(pl.Int32) + (pl.col('monthly_cv') >= monthly_cv_threshold).cast(pl.Int32) >= 2\n",
    "        ).alias('is_seasonal')\n",
    "    ])\n",
    "    # Sort by seasonality score\n",
    "    seasonal_products = seasonal_products.filter(pl.col('monthly_cv').is_not_nan())\n",
    "    #print(seasonal_products.columns)\n",
    "    #seasonal_products = seasonal_products.with_columns(pl.col(date_col).dt.month().alias('month'))\n",
    "    #seasonal_products = seasonal_products.filter(pl.col('month_count')>=2)\n",
    "    #seasonal_products = seasonal_products.sort('seasonality_score', descending=True)\n",
    "    seasonal_products = seasonal_products.sort('monthly_cv', descending=True)\n",
    "    return seasonal_products\n",
    "\n",
    "\n",
    "def plot_seasonal_products(df: pl.DataFrame, seasonal_df: pl.DataFrame, date_col: str = 'date', product_col: str = 'product', sales_col: str = 'sales', top_n: int = 12):\n",
    "    \"\"\"\n",
    "    Plot seasonal patterns for most seasonal products. Shows months on x-axis with separate lines for each year.\n",
    "    \"\"\"\n",
    "    \n",
    "    # Get top seasonal products\n",
    "    #top_seasonal = seasonal_df.filter(pl.col('is_seasonal')).head(top_n)\n",
    "    top_seasonal = seasonal_df.head(top_n)\n",
    "    top_products = top_seasonal[product_col].to_list()\n",
    "    \n",
    "    if not top_products:\n",
    "        print(\"No seasonal products found with current thresholds\")\n",
    "        return\n",
    "    \n",
    "    # Filter data for top seasonal products and add month/year columns\n",
    "    plot_data = (df.filter(pl.col(product_col).is_in(top_products))\n",
    "                   .with_columns([\n",
    "                       pl.col(date_col).dt.month().alias('month'),\n",
    "                       pl.col(date_col).dt.year().alias('year')\n",
    "                   ]))\n",
    "    \n",
    "    # Convert to pandas for plotting\n",
    "    plot_data_pd = plot_data.to_pandas()\n",
    "    \n",
    "    # Create subplots\n",
    "    fig, axes = plt.subplots(int(np.ceil(top_n/3)), 3, figsize=(16, 16))\n",
    "    axes = axes.flatten()\n",
    "    \n",
    "    # Month names for x-axis labels\n",
    "    month_names = ['Jan', 'Feb', 'Mar', 'Apr', 'May', 'Jun',\n",
    "                   'Jul', 'Aug', 'Sep', 'Oct', 'Nov', 'Dec']\n",
    "    \n",
    "    # Color palette for years\n",
    "    years = sorted(plot_data_pd['year'].unique())\n",
    "    colors = plt.cm.tab10(np.linspace(0, 1, len(years)))\n",
    "    \n",
    "    for i, product in enumerate(top_products[:top_n]):\n",
    "        if i >= len(axes):\n",
    "            break\n",
    "            \n",
    "        product_data = plot_data_pd[plot_data_pd[product_col] == product]\n",
    "        \n",
    "        # Plot each year as a separate line\n",
    "        for j, year in enumerate(years):\n",
    "            year_data = product_data[product_data['year'] == year]\n",
    "            if not year_data.empty:\n",
    "                # Sort by month to ensure proper line connection\n",
    "                year_data = year_data.sort_values('month')\n",
    "                \n",
    "                axes[i].plot(year_data['month'], year_data[sales_col], \n",
    "                           marker='o', linewidth=2, label=str(year),\n",
    "                           color=colors[j], markersize=4)\n",
    "        \n",
    "        # Get CV for title\n",
    "        cv_value = top_seasonal.filter(pl.col(product_col) == product).select('cv').item()\n",
    "        \n",
    "        axes[i].set_title(f'{product}\\n(CV: {cv_value:.3f})', fontsize=11, fontweight='bold')\n",
    "        axes[i].set_xlabel('Month')\n",
    "        axes[i].set_ylabel('Sales')\n",
    "        axes[i].grid(True, alpha=0.3)\n",
    "        axes[i].legend(title='Year', fontsize=8, title_fontsize=9)\n",
    "        \n",
    "        # Set month labels on x-axis\n",
    "        axes[i].set_xticks(range(1, 13))\n",
    "        axes[i].set_xticklabels(month_names, rotation=45)\n",
    "        \n",
    "        # Format y-axis to show values in a readable format\n",
    "        axes[i].ticklabel_format(style='plain', axis='y')\n",
    "    \n",
    "    # Remove empty subplots\n",
    "    for i in range(len(top_products), len(axes)):\n",
    "        fig.delaxes(axes[i])\n",
    "    \n",
    "    plt.suptitle('Seasonal Patterns by Product', fontsize=14, fontweight='bold', y=1)\n",
    "    plt.tight_layout()\n",
    "    plt.subplots_adjust(top=0.93)\n",
    "    plt.show()\n",
    "\n"
   ]
  },
  {
   "cell_type": "code",
   "execution_count": 9,
   "id": "b6a07419",
   "metadata": {},
   "outputs": [],
   "source": [
    "import warnings\n",
    "\n",
    "def calculate_seasonal_strength_stl(df: pl.DataFrame, seasonal_period: int = 12, trend_period: int = None, seasonal_degree: int = 1, trend_degree: int = 1, min_periods: int = 24,\n",
    "    robust: bool = True) -> pl.DataFrame:\n",
    "    \"\"\"\n",
    "    Calculate seasonal strength using STL decomposition for multiple time series.\n",
    "    \n",
    "    Parameters:\n",
    "    -----------\n",
    "    df : pl.DataFrame\n",
    "        DataFrame with columns 'ds' (date), 'unique_id' (series identifier), 'y' (values)\n",
    "    seasonal_period : int, default=12\n",
    "        Length of the seasonal cycle (12 for monthly data)\n",
    "    trend_period : int, optional\n",
    "        Length of the trend smoother. If None, uses seasonal_period * 1.5\n",
    "    seasonal_degree : int, default=1\n",
    "        Degree of seasonal LOESS smoothing (0 or 1)\n",
    "    trend_degree : int, default=1\n",
    "        Degree of trend LOESS smoothing (0 or 1)\n",
    "    min_periods : int, default=24\n",
    "        Minimum number of periods required for STL decomposition\n",
    "    robust : bool, default=True\n",
    "        Whether to use robust STL decomposition\n",
    "    \n",
    "    Returns:\n",
    "    --------\n",
    "    pl.DataFrame\n",
    "        DataFrame with columns 'unique_id' and 'seasonal_strength'\n",
    "        Seasonal strength ranges from 0 (no seasonality) to 1 (pure seasonality)\n",
    "    \"\"\"\n",
    "    \n",
    "    # Set default trend period if not provided\n",
    "    if trend_period is None:\n",
    "        trend_period = max(int(seasonal_period * 1.5), seasonal_period + 1)\n",
    "        if trend_period % 2 == 0:  # STL requires odd trend period\n",
    "            trend_period += 1\n",
    "    \n",
    "    results = []\n",
    "    \n",
    "    # Group by unique_id and process each series\n",
    "    for unique_id, group in df.group_by('unique_id'):\n",
    "        unique_id_val = unique_id[0]  # Extract the actual value\n",
    "        \n",
    "        # Sort by date and convert to pandas for STL\n",
    "        group_sorted = group.sort('ds')\n",
    "        ts_data = group_sorted.select(['ds', 'y']).to_pandas()\n",
    "        \n",
    "        # Check if we have enough data points\n",
    "        if len(ts_data) < min_periods:\n",
    "            warnings.warn(f\"Skipping {unique_id_val}: insufficient data points ({len(ts_data)} < {min_periods})\")\n",
    "            results.append({\n",
    "                'unique_id': unique_id_val,\n",
    "                'seasonal_strength': None,\n",
    "                'n_periods': len(ts_data),\n",
    "                'status': 'insufficient_data'\n",
    "            })\n",
    "            continue\n",
    "        \n",
    "        # Check for missing values\n",
    "        if ts_data['y'].isna().any():\n",
    "            warnings.warn(f\"Series {unique_id_val} contains missing values. Interpolating...\")\n",
    "            ts_data['y'] = ts_data['y'].interpolate(method='linear')\n",
    "        \n",
    "        # Check for constant series\n",
    "        if ts_data['y'].var() == 0:\n",
    "            warnings.warn(f\"Series {unique_id_val} is constant. Seasonal strength = 0\")\n",
    "            results.append({\n",
    "                'unique_id': unique_id_val,\n",
    "                'seasonal_strength': 0.0,\n",
    "                'n_periods': len(ts_data),\n",
    "                'status': 'constant_series'\n",
    "            })\n",
    "            continue\n",
    "        \n",
    "        try:\n",
    "            # Perform STL decomposition\n",
    "            stl = STL(\n",
    "                ts_data['y'],\n",
    "                seasonal=seasonal_period,\n",
    "                trend=trend_period,\n",
    "                seasonal_deg=seasonal_degree,\n",
    "                trend_deg=trend_degree,\n",
    "                robust=robust\n",
    "            )\n",
    "            \n",
    "            decomposition = stl.fit()\n",
    "            \n",
    "            # Calculate seasonal strength\n",
    "            # Seasonal strength = Var(Seasonal) / Var(Seasonal + Residual)\n",
    "            seasonal_var = np.var(decomposition.seasonal)\n",
    "            remainder_var = np.var(decomposition.resid)\n",
    "            \n",
    "            # Avoid division by zero\n",
    "            if seasonal_var + remainder_var == 0:\n",
    "                seasonal_strength = 0.0\n",
    "            else:\n",
    "                seasonal_strength = seasonal_var / (seasonal_var + remainder_var)\n",
    "            \n",
    "            # Ensure seasonal strength is between 0 and 1\n",
    "            seasonal_strength = max(0.0, min(1.0, seasonal_strength))\n",
    "            \n",
    "            results.append({\n",
    "                'unique_id': unique_id_val,\n",
    "                'seasonal_strength': seasonal_strength,\n",
    "                'n_periods': len(ts_data),\n",
    "                'status': 'success'\n",
    "            })\n",
    "            \n",
    "        except Exception as e:\n",
    "            warnings.warn(f\"STL decomposition failed for {unique_id_val}: {str(e)}\")\n",
    "            results.append({\n",
    "                'unique_id': unique_id_val,\n",
    "                'seasonal_strength': None,\n",
    "                'n_periods': len(ts_data),\n",
    "                'status': f'error: {str(e)}'\n",
    "            })\n",
    "    \n",
    "    # Convert results to Polars DataFrame\n",
    "    return pl.DataFrame(results)"
   ]
  },
  {
   "cell_type": "code",
   "execution_count": null,
   "id": "70e982d8",
   "metadata": {},
   "outputs": [],
   "source": [
    "seasonal_results = calculate_seasonal_strength_stl(df_fr)\n",
    "seasonal_results"
   ]
  },
  {
   "cell_type": "code",
   "execution_count": 13,
   "id": "d6e17397",
   "metadata": {},
   "outputs": [
    {
     "data": {
      "text/html": [
       "<div><style>\n",
       ".dataframe > thead > tr,\n",
       ".dataframe > tbody > tr {\n",
       "  text-align: right;\n",
       "  white-space: pre-wrap;\n",
       "}\n",
       "</style>\n",
       "<small>shape: (0, 4)</small><table border=\"1\" class=\"dataframe\"><thead><tr><th>unique_id</th><th>seasonal_strength</th><th>n_periods</th><th>status</th></tr><tr><td>str</td><td>f64</td><td>i64</td><td>str</td></tr></thead><tbody></tbody></table></div>"
      ],
      "text/plain": [
       "shape: (0, 4)\n",
       "┌───────────┬───────────────────┬───────────┬────────┐\n",
       "│ unique_id ┆ seasonal_strength ┆ n_periods ┆ status │\n",
       "│ ---       ┆ ---               ┆ ---       ┆ ---    │\n",
       "│ str       ┆ f64               ┆ i64       ┆ str    │\n",
       "╞═══════════╪═══════════════════╪═══════════╪════════╡\n",
       "└───────────┴───────────────────┴───────────┴────────┘"
      ]
     },
     "execution_count": 13,
     "metadata": {},
     "output_type": "execute_result"
    }
   ],
   "source": [
    "seasonal_results.filter(pl.col('seasonal_strength')>0)"
   ]
  },
  {
   "cell_type": "code",
   "execution_count": null,
   "id": "9735b7ae",
   "metadata": {},
   "outputs": [],
   "source": [
    "def plot_stl_decomposition(\n",
    "    df: pl.DataFrame,\n",
    "    unique_id: str,\n",
    "    seasonal_period: int = 12,\n",
    "    figsize: tuple = (12, 8)\n",
    ") -> None:\n",
    "    \"\"\"\n",
    "    Plot STL decomposition for a specific time series.\n",
    "    \n",
    "    Parameters:\n",
    "    -----------\n",
    "    df : pl.DataFrame\n",
    "        DataFrame with columns 'ds', 'unique_id', 'y'\n",
    "    unique_id : str\n",
    "        Identifier for the time series to plot\n",
    "    seasonal_period : int, default=12\n",
    "        Length of the seasonal cycle\n",
    "    figsize : tuple, default=(12, 8)\n",
    "        Figure size for the plot\n",
    "    \"\"\"\n",
    "    import matplotlib.pyplot as plt\n",
    "    \n",
    "    # Filter data for specific unique_id\n",
    "    series_data = df.filter(pl.col('unique_id') == unique_id).sort('ds')\n",
    "    \n",
    "    if len(series_data) == 0:\n",
    "        raise ValueError(f\"No data found for unique_id: {unique_id}\")\n",
    "    \n",
    "    # Convert to pandas for STL\n",
    "    ts_data = series_data.select(['ds', 'y']).to_pandas()\n",
    "    \n",
    "    # Perform STL decomposition\n",
    "    stl = STL(ts_data['y'], seasonal=seasonal_period, robust=True)\n",
    "    decomposition = stl.fit()\n",
    "    \n",
    "    # Create the plot\n",
    "    fig, axes = plt.subplots(4, 1, figsize=figsize, sharex=True)\n",
    "    \n",
    "    # Original series\n",
    "    axes[0].plot(ts_data['ds'], ts_data['y'])\n",
    "    axes[0].set_title(f'Original Series - {unique_id}')\n",
    "    axes[0].set_ylabel('Value')\n",
    "    \n",
    "    # Trend\n",
    "    axes[1].plot(ts_data['ds'], decomposition.trend)\n",
    "    axes[1].set_title('Trend')\n",
    "    axes[1].set_ylabel('Trend')\n",
    "    \n",
    "    # Seasonal\n",
    "    axes[2].plot(ts_data['ds'], decomposition.seasonal)\n",
    "    axes[2].set_title('Seasonal')\n",
    "    axes[2].set_ylabel('Seasonal')\n",
    "    \n",
    "    # Residual\n",
    "    axes[3].plot(ts_data['ds'], decomposition.resid)\n",
    "    axes[3].set_title('Residual')\n",
    "    axes[3].set_ylabel('Residual')\n",
    "    axes[3].set_xlabel('Date')\n",
    "    \n",
    "    plt.tight_layout()\n",
    "    plt.show()\n",
    "plot_stl_decomposition()"
   ]
  },
  {
   "cell_type": "code",
   "execution_count": null,
   "id": "c0557b80",
   "metadata": {},
   "outputs": [],
   "source": [
    "import pandas as pd\n",
    "from statsmodels.tsa.seasonal import STL\n",
    "\n",
    "def calculate_seasonality_strength(ts):\n",
    "    stl = STL(ts, period=12, robust=True)\n",
    "    res = stl.fit()\n",
    "    var_resid = res.resid.var()\n",
    "    var_seasonal_plus_resid = (res.seasonal + res.resid).var()\n",
    "    strength = 1 - (var_resid / var_seasonal_plus_resid)\n",
    "    return strength\n",
    "\n",
    "df=df_fr.to_pandas()\n",
    "# Example for all products\n",
    "seasonality_scores = {}\n",
    "for product in df['unique_id'].unique():\n",
    "    ts = df[df['unique_id'] == product].set_index('ds')['y'].asfreq('MS')\n",
    "    score = calculate_seasonality_strength(ts)\n",
    "    seasonality_scores[product] = score\n",
    "\n",
    "# Sort by highest seasonality\n",
    "sorted_scores = sorted(seasonality_scores.items(), key=lambda x: x[1], reverse=True)\n",
    "sorted_scores\n"
   ]
  },
  {
   "cell_type": "code",
   "execution_count": null,
   "id": "ff659b4d",
   "metadata": {},
   "outputs": [],
   "source": [
    "import plotly.express as px\n",
    "seasonal_results = identify_seasonal_products(df_fr,date_col='ds',product_col='unique_id',sales_col='y')\n",
    "#plot_seasonal_products(df_fr, seasonal_results,date_col='ds',product_col='unique_id',sales_col='y',top_n=20)\n",
    "df_fr=df_fr.fill_nan(0).fill_null(0)\n",
    "pdf=df_fr.clone()\n",
    "pdf = pdf.with_columns(month = pl.col('ds').dt.month())\n",
    "pdf = pdf.with_columns(year=pl.col('ds').dt.year())\n",
    "pdf=pdf.with_columns(mc=pl.when(pl.col('y')>0).then(pl.col('y').count().over('unique_id','month')).otherwise(0))\n",
    "pdf=pdf.with_columns(mcmax=pl.col('mc').max().over('unique_id'))\n",
    "#px.line(pdf.filter(pl.col('unique_id').is_in(seasonal_results.head(20)['unique_id'].to_list())).filter(pl.col('mcmax')>=3), x=\"month\", y=\"y\",color='year',\n",
    "#         facet_col=\"unique_id\",facet_col_wrap=4,height=1500)"
   ]
  }
 ],
 "metadata": {
  "kernelspec": {
   "display_name": "py312",
   "language": "python",
   "name": "python3"
  },
  "language_info": {
   "codemirror_mode": {
    "name": "ipython",
    "version": 3
   },
   "file_extension": ".py",
   "mimetype": "text/x-python",
   "name": "python",
   "nbconvert_exporter": "python",
   "pygments_lexer": "ipython3",
   "version": "3.12.11"
  }
 },
 "nbformat": 4,
 "nbformat_minor": 5
}
