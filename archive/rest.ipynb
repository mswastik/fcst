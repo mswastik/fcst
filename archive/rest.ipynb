{
 "cells": [
  {
   "cell_type": "code",
   "execution_count": 4,
   "id": "2e6422a5",
   "metadata": {},
   "outputs": [],
   "source": [
    "import polars as pl\n",
    "import requests\n",
    "import json"
   ]
  },
  {
   "cell_type": "code",
   "execution_count": null,
   "id": "91396cd8",
   "metadata": {},
   "outputs": [],
   "source": []
  },
  {
   "cell_type": "code",
   "execution_count": null,
   "id": "38b0b666",
   "metadata": {},
   "outputs": [],
   "source": [
    "path = \"C:\\\\Users\\\\smishra14\\\\Downloads\\\\config.json\"\n",
    "url=\"https://fa-euwg-dev2-saasfaprod1.fa.ocs.oraclecloud.com/crmRestApi/resources/11.13.18.05/importExportObjectMetadata\"\n",
    "with open(path, 'r') as j:\n",
    "    data = json.loads(j.read())\n",
    "data['email']\n",
    "r = requests.get(url = url, auth=(data['email'], data['pwd']))\n",
    "#params = {'username':data['email'],'password':data['pwd']})\n",
    "r.json()"
   ]
  },
  {
   "cell_type": "code",
   "execution_count": 22,
   "id": "2aa63724",
   "metadata": {},
   "outputs": [
    {
     "data": {
      "text/plain": [
       "<Response [401]>"
      ]
     },
     "execution_count": 22,
     "metadata": {},
     "output_type": "execute_result"
    }
   ],
   "source": [
    "with requests.Session() as s:\n",
    "    s.post(\"https://fa-euwg-dev2-saasfaprod1.fa.ocs.oraclecloud.com/\",data={'inUserName': data['email'], 'inUserPass': data['pwd']})\n",
    "    r=s.get(url = url, auth=(data['email'], data['pwd']))\n",
    "r"
   ]
  },
  {
   "cell_type": "code",
   "execution_count": 1,
   "id": "c4beee4d",
   "metadata": {},
   "outputs": [
    {
     "data": {
      "text/plain": [
       "'ODBC Driver 18 for SQL Server'"
      ]
     },
     "execution_count": 1,
     "metadata": {},
     "output_type": "execute_result"
    }
   ],
   "source": [
    "import pyodbc\n",
    "drivers =sorted(pyodbc.drivers())\n",
    "d=[i for i in drivers if i.find('ODBC Driver')!=-1]\n",
    "d[-1]"
   ]
  },
  {
   "cell_type": "code",
   "execution_count": 2,
   "id": "7a06809a",
   "metadata": {},
   "outputs": [
    {
     "ename": "Error",
     "evalue": "ODBC emitted an error calling 'SQLDriverConnect':\nState: FA004, Native error: 0, Message: [Microsoft][ODBC Driver 18 for SQL Server][SQL Server]Failed to authenticate the user '' in Active Directory (Authentication option is 'ActiveDirectoryInteractive').\r\nError code 0x4C7; state 10\r\nThe operation was canceled by the user.",
     "output_type": "error",
     "traceback": [
      "\u001b[1;31m---------------------------------------------------------------------------\u001b[0m",
      "\u001b[1;31mError\u001b[0m                                     Traceback (most recent call last)",
      "Cell \u001b[1;32mIn[2], line 11\u001b[0m\n\u001b[0;32m      3\u001b[0m query\u001b[38;5;241m=\u001b[39m\u001b[38;5;124mf\u001b[39m\u001b[38;5;124m'''\u001b[39m\n\u001b[0;32m      4\u001b[0m \u001b[38;5;124m    SELECT DISTINCT\u001b[39m\n\u001b[0;32m      5\u001b[0m \u001b[38;5;124m        p.[BusinessSector] as [Business Sector],p.[BusinessUnit] as [Business Unit],p.[Franchise],p.[ProductLine] as [Product Line],\u001b[39m\n\u001b[1;32m   (...)\u001b[0m\n\u001b[0;32m      8\u001b[0m \u001b[38;5;124m    FROM [Envision].[DIM_Demantra_CLD_demantraproducts] p\u001b[39m\n\u001b[0;32m      9\u001b[0m \u001b[38;5;124m \u001b[39m\u001b[38;5;124m'''\u001b[39m\n\u001b[0;32m     10\u001b[0m connection_string\u001b[38;5;241m=\u001b[39m\u001b[38;5;124mf\u001b[39m\u001b[38;5;124m\"\u001b[39m\u001b[38;5;124mDriver=\u001b[39m\u001b[38;5;130;01m{{\u001b[39;00m\u001b[38;5;132;01m{\u001b[39;00md[\u001b[38;5;241m-\u001b[39m\u001b[38;5;241m1\u001b[39m]\u001b[38;5;132;01m}\u001b[39;00m\u001b[38;5;130;01m}}\u001b[39;00m\u001b[38;5;124m;Server=\u001b[39m\u001b[38;5;132;01m{\u001b[39;00mss\u001b[38;5;132;01m}\u001b[39;00m\u001b[38;5;124m;database=gda_glbsyndb;Encrypt=Yes;Authentication=ActiveDirectoryInteractive;\u001b[39m\u001b[38;5;124m\"\u001b[39m\n\u001b[1;32m---> 11\u001b[0m reader \u001b[38;5;241m=\u001b[39m \u001b[43mread_arrow_batches_from_odbc\u001b[49m\u001b[43m(\u001b[49m\u001b[43mquery\u001b[49m\u001b[38;5;241;43m=\u001b[39;49m\u001b[43mquery\u001b[49m\u001b[43m,\u001b[49m\u001b[43mconnection_string\u001b[49m\u001b[38;5;241;43m=\u001b[39;49m\u001b[43mconnection_string\u001b[49m\u001b[43m)\u001b[49m\n",
      "File \u001b[1;32mc:\\Users\\smishra14\\setup\\miniconda\\envs\\py313\\Lib\\site-packages\\arrow_odbc\\reader.py:449\u001b[0m, in \u001b[0;36mread_arrow_batches_from_odbc\u001b[1;34m(query, connection_string, batch_size, user, password, parameters, max_bytes_per_batch, max_text_size, max_binary_size, falliable_allocations, login_timeout_sec, packet_size, schema, map_schema, fetch_concurrently)\u001b[0m\n\u001b[0;32m    337\u001b[0m \u001b[38;5;250m\u001b[39m\u001b[38;5;124;03m\"\"\"\u001b[39;00m\n\u001b[0;32m    338\u001b[0m \u001b[38;5;124;03mExecute the query and read the result as an iterator over Arrow batches.\u001b[39;00m\n\u001b[0;32m    339\u001b[0m \n\u001b[1;32m   (...)\u001b[0m\n\u001b[0;32m    445\u001b[0m \u001b[38;5;124;03m    individual arrow batches.\u001b[39;00m\n\u001b[0;32m    446\u001b[0m \u001b[38;5;124;03m\"\"\"\u001b[39;00m\n\u001b[0;32m    447\u001b[0m reader \u001b[38;5;241m=\u001b[39m _BatchReaderRaii()\n\u001b[1;32m--> 449\u001b[0m connection \u001b[38;5;241m=\u001b[39m \u001b[43mconnect\u001b[49m\u001b[43m(\u001b[49m\n\u001b[0;32m    450\u001b[0m \u001b[43m    \u001b[49m\u001b[43mconnection_string\u001b[49m\u001b[38;5;241;43m=\u001b[39;49m\u001b[43mconnection_string\u001b[49m\u001b[43m,\u001b[49m\n\u001b[0;32m    451\u001b[0m \u001b[43m    \u001b[49m\u001b[43muser\u001b[49m\u001b[38;5;241;43m=\u001b[39;49m\u001b[43muser\u001b[49m\u001b[43m,\u001b[49m\n\u001b[0;32m    452\u001b[0m \u001b[43m    \u001b[49m\u001b[43mpassword\u001b[49m\u001b[38;5;241;43m=\u001b[39;49m\u001b[43mpassword\u001b[49m\u001b[43m,\u001b[49m\n\u001b[0;32m    453\u001b[0m \u001b[43m    \u001b[49m\u001b[43mlogin_timeout_sec\u001b[49m\u001b[38;5;241;43m=\u001b[39;49m\u001b[43mlogin_timeout_sec\u001b[49m\u001b[43m,\u001b[49m\n\u001b[0;32m    454\u001b[0m \u001b[43m    \u001b[49m\u001b[43mpacket_size\u001b[49m\u001b[38;5;241;43m=\u001b[39;49m\u001b[43mpacket_size\u001b[49m\u001b[43m,\u001b[49m\n\u001b[0;32m    455\u001b[0m \u001b[43m\u001b[49m\u001b[43m)\u001b[49m\n\u001b[0;32m    457\u001b[0m reader\u001b[38;5;241m.\u001b[39mquery(\n\u001b[0;32m    458\u001b[0m     connection\u001b[38;5;241m=\u001b[39mconnection,\n\u001b[0;32m    459\u001b[0m     query\u001b[38;5;241m=\u001b[39mquery,\n\u001b[0;32m    460\u001b[0m     parameters\u001b[38;5;241m=\u001b[39mparameters,\n\u001b[0;32m    461\u001b[0m )\n\u001b[0;32m    463\u001b[0m \u001b[38;5;28;01mif\u001b[39;00m max_text_size \u001b[38;5;129;01mis\u001b[39;00m \u001b[38;5;28;01mNone\u001b[39;00m:\n",
      "File \u001b[1;32mc:\\Users\\smishra14\\setup\\miniconda\\envs\\py313\\Lib\\site-packages\\arrow_odbc\\connect.py:71\u001b[0m, in \u001b[0;36mconnect\u001b[1;34m(connection_string, user, password, login_timeout_sec, packet_size)\u001b[0m\n\u001b[0;32m     59\u001b[0m error \u001b[38;5;241m=\u001b[39m lib\u001b[38;5;241m.\u001b[39marrow_odbc_connection_make(\n\u001b[0;32m     60\u001b[0m     connection_string_bytes,\n\u001b[0;32m     61\u001b[0m     \u001b[38;5;28mlen\u001b[39m(connection_string_bytes),\n\u001b[1;32m   (...)\u001b[0m\n\u001b[0;32m     68\u001b[0m     connection_out,\n\u001b[0;32m     69\u001b[0m )\n\u001b[0;32m     70\u001b[0m \u001b[38;5;66;03m# See if we connected successfully and return an error if not\u001b[39;00m\n\u001b[1;32m---> 71\u001b[0m \u001b[43mraise_on_error\u001b[49m\u001b[43m(\u001b[49m\u001b[43merror\u001b[49m\u001b[43m)\u001b[49m\n\u001b[0;32m     72\u001b[0m \u001b[38;5;66;03m# Dereference output pointer. This gives us an `ArrowOdbcConnection *`. We take ownership of\u001b[39;00m\n\u001b[0;32m     73\u001b[0m \u001b[38;5;66;03m# the ArrowOdbcConnection and must take care to free it.\u001b[39;00m\n\u001b[0;32m     74\u001b[0m handle \u001b[38;5;241m=\u001b[39m connection_out[\u001b[38;5;241m0\u001b[39m]\n",
      "File \u001b[1;32mc:\\Users\\smishra14\\setup\\miniconda\\envs\\py313\\Lib\\site-packages\\arrow_odbc\\error.py:30\u001b[0m, in \u001b[0;36mraise_on_error\u001b[1;34m(error_out)\u001b[0m\n\u001b[0;32m     26\u001b[0m \u001b[38;5;250m\u001b[39m\u001b[38;5;124;03m\"\"\"\u001b[39;00m\n\u001b[0;32m     27\u001b[0m \u001b[38;5;124;03mRaises if the argument points to an error\u001b[39;00m\n\u001b[0;32m     28\u001b[0m \u001b[38;5;124;03m\"\"\"\u001b[39;00m\n\u001b[0;32m     29\u001b[0m \u001b[38;5;28;01mif\u001b[39;00m error_out \u001b[38;5;241m!=\u001b[39m ffi\u001b[38;5;241m.\u001b[39mNULL:\n\u001b[1;32m---> 30\u001b[0m     \u001b[38;5;28;01mraise\u001b[39;00m Error(error_out)\n",
      "\u001b[1;31mError\u001b[0m: ODBC emitted an error calling 'SQLDriverConnect':\nState: FA004, Native error: 0, Message: [Microsoft][ODBC Driver 18 for SQL Server][SQL Server]Failed to authenticate the user '' in Active Directory (Authentication option is 'ActiveDirectoryInteractive').\r\nError code 0x4C7; state 10\r\nThe operation was canceled by the user."
     ]
    }
   ],
   "source": [
    "from arrow_odbc import read_arrow_batches_from_odbc\n",
    "ss=\"gda-globalsynapseanalytics-ws-prod.sql.azuresynapse.net\"\n",
    "query=f'''\n",
    "    SELECT DISTINCT\n",
    "        p.[BusinessSector] as [Business Sector],p.[BusinessUnit] as [Business Unit],p.[Franchise],p.[ProductLine] as [Product Line],\n",
    "        p.[IBPLevel5] as [IBP Level 5],p.[IBPLevel6] as [IBP Level 6],p.[IBPLevel7] as [IBP Level 7],p.[CatalogNumber]\n",
    "\n",
    "    FROM [Envision].[DIM_Demantra_CLD_demantraproducts] p\n",
    " '''\n",
    "connection_string=f\"Driver={{{d[-1]}}};Server={ss};database=gda_glbsyndb;Encrypt=Yes;Authentication=ActiveDirectoryInteractive;\"\n",
    "reader = read_arrow_batches_from_odbc(query=query,connection_string=connection_string)"
   ]
  }
 ],
 "metadata": {
  "kernelspec": {
   "display_name": "py313",
   "language": "python",
   "name": "python3"
  },
  "language_info": {
   "codemirror_mode": {
    "name": "ipython",
    "version": 3
   },
   "file_extension": ".py",
   "mimetype": "text/x-python",
   "name": "python",
   "nbconvert_exporter": "python",
   "pygments_lexer": "ipython3",
   "version": "3.13.1"
  }
 },
 "nbformat": 4,
 "nbformat_minor": 5
}
